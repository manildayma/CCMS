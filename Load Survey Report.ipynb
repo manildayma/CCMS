{
 "cells": [
  {
   "cell_type": "code",
   "execution_count": 1,
   "metadata": {},
   "outputs": [],
   "source": [
    "import pandas as pd\n",
    "import numpy as np\n",
    "import seaborn as sns\n",
    "import matplotlib.pyplot as plt\n",
    "import nltk\n",
    "import os"
   ]
  },
  {
   "cell_type": "code",
   "execution_count": 75,
   "metadata": {},
   "outputs": [],
   "source": [
    "df=pd.read_excel(r\"C:\\Users\\Cyborg\\Downloads\\Load Survey Data (6).xlsx\")"
   ]
  },
  {
   "cell_type": "code",
   "execution_count": 76,
   "metadata": {},
   "outputs": [
    {
     "data": {
      "text/html": [
       "<div>\n",
       "<style scoped>\n",
       "    .dataframe tbody tr th:only-of-type {\n",
       "        vertical-align: middle;\n",
       "    }\n",
       "\n",
       "    .dataframe tbody tr th {\n",
       "        vertical-align: top;\n",
       "    }\n",
       "\n",
       "    .dataframe thead th {\n",
       "        text-align: right;\n",
       "    }\n",
       "</style>\n",
       "<table border=\"1\" class=\"dataframe\">\n",
       "  <thead>\n",
       "    <tr style=\"text-align: right;\">\n",
       "      <th></th>\n",
       "      <th>KWh</th>\n",
       "      <th>KVAh</th>\n",
       "      <th>Vr</th>\n",
       "      <th>Vy</th>\n",
       "      <th>Vb</th>\n",
       "      <th>Ir</th>\n",
       "      <th>Iy</th>\n",
       "      <th>Ib</th>\n",
       "      <th>Freq</th>\n",
       "      <th>Total Load</th>\n",
       "    </tr>\n",
       "  </thead>\n",
       "  <tbody>\n",
       "    <tr>\n",
       "      <th>count</th>\n",
       "      <td>742.000000</td>\n",
       "      <td>742.000000</td>\n",
       "      <td>742.000000</td>\n",
       "      <td>742.000000</td>\n",
       "      <td>742.000000</td>\n",
       "      <td>742.000000</td>\n",
       "      <td>742.000000</td>\n",
       "      <td>742.000000</td>\n",
       "      <td>742.000000</td>\n",
       "      <td>7.420000e+02</td>\n",
       "    </tr>\n",
       "    <tr>\n",
       "      <th>mean</th>\n",
       "      <td>2.139387</td>\n",
       "      <td>2.153534</td>\n",
       "      <td>237.755997</td>\n",
       "      <td>238.030809</td>\n",
       "      <td>237.909528</td>\n",
       "      <td>4.842399</td>\n",
       "      <td>1.377022</td>\n",
       "      <td>3.071887</td>\n",
       "      <td>49.792224</td>\n",
       "      <td>5.170000e+00</td>\n",
       "    </tr>\n",
       "    <tr>\n",
       "      <th>std</th>\n",
       "      <td>2.296270</td>\n",
       "      <td>2.311301</td>\n",
       "      <td>19.318425</td>\n",
       "      <td>19.565254</td>\n",
       "      <td>19.738607</td>\n",
       "      <td>5.106522</td>\n",
       "      <td>1.926937</td>\n",
       "      <td>3.263343</td>\n",
       "      <td>3.669756</td>\n",
       "      <td>4.799399e-14</td>\n",
       "    </tr>\n",
       "    <tr>\n",
       "      <th>min</th>\n",
       "      <td>0.000000</td>\n",
       "      <td>0.000000</td>\n",
       "      <td>0.000000</td>\n",
       "      <td>0.000000</td>\n",
       "      <td>0.000000</td>\n",
       "      <td>0.000000</td>\n",
       "      <td>0.000000</td>\n",
       "      <td>0.000000</td>\n",
       "      <td>0.000000</td>\n",
       "      <td>5.170000e+00</td>\n",
       "    </tr>\n",
       "    <tr>\n",
       "      <th>25%</th>\n",
       "      <td>0.000000</td>\n",
       "      <td>0.000000</td>\n",
       "      <td>232.207500</td>\n",
       "      <td>231.635000</td>\n",
       "      <td>231.287500</td>\n",
       "      <td>0.000000</td>\n",
       "      <td>0.000000</td>\n",
       "      <td>0.000000</td>\n",
       "      <td>50.020000</td>\n",
       "      <td>5.170000e+00</td>\n",
       "    </tr>\n",
       "    <tr>\n",
       "      <th>50%</th>\n",
       "      <td>0.480000</td>\n",
       "      <td>0.484000</td>\n",
       "      <td>238.160000</td>\n",
       "      <td>238.745000</td>\n",
       "      <td>238.730000</td>\n",
       "      <td>1.250000</td>\n",
       "      <td>0.000000</td>\n",
       "      <td>0.610000</td>\n",
       "      <td>50.060000</td>\n",
       "      <td>5.170000e+00</td>\n",
       "    </tr>\n",
       "    <tr>\n",
       "      <th>75%</th>\n",
       "      <td>4.493000</td>\n",
       "      <td>4.520000</td>\n",
       "      <td>245.915000</td>\n",
       "      <td>246.675000</td>\n",
       "      <td>246.747500</td>\n",
       "      <td>10.450000</td>\n",
       "      <td>1.380000</td>\n",
       "      <td>6.535000</td>\n",
       "      <td>50.090000</td>\n",
       "      <td>5.170000e+00</td>\n",
       "    </tr>\n",
       "    <tr>\n",
       "      <th>max</th>\n",
       "      <td>5.453000</td>\n",
       "      <td>5.489000</td>\n",
       "      <td>256.620000</td>\n",
       "      <td>258.330000</td>\n",
       "      <td>258.870000</td>\n",
       "      <td>11.430000</td>\n",
       "      <td>5.680000</td>\n",
       "      <td>7.890000</td>\n",
       "      <td>51.510000</td>\n",
       "      <td>5.170000e+00</td>\n",
       "    </tr>\n",
       "  </tbody>\n",
       "</table>\n",
       "</div>"
      ],
      "text/plain": [
       "              KWh        KVAh          Vr          Vy          Vb          Ir  \\\n",
       "count  742.000000  742.000000  742.000000  742.000000  742.000000  742.000000   \n",
       "mean     2.139387    2.153534  237.755997  238.030809  237.909528    4.842399   \n",
       "std      2.296270    2.311301   19.318425   19.565254   19.738607    5.106522   \n",
       "min      0.000000    0.000000    0.000000    0.000000    0.000000    0.000000   \n",
       "25%      0.000000    0.000000  232.207500  231.635000  231.287500    0.000000   \n",
       "50%      0.480000    0.484000  238.160000  238.745000  238.730000    1.250000   \n",
       "75%      4.493000    4.520000  245.915000  246.675000  246.747500   10.450000   \n",
       "max      5.453000    5.489000  256.620000  258.330000  258.870000   11.430000   \n",
       "\n",
       "               Iy          Ib        Freq    Total Load  \n",
       "count  742.000000  742.000000  742.000000  7.420000e+02  \n",
       "mean     1.377022    3.071887   49.792224  5.170000e+00  \n",
       "std      1.926937    3.263343    3.669756  4.799399e-14  \n",
       "min      0.000000    0.000000    0.000000  5.170000e+00  \n",
       "25%      0.000000    0.000000   50.020000  5.170000e+00  \n",
       "50%      0.000000    0.610000   50.060000  5.170000e+00  \n",
       "75%      1.380000    6.535000   50.090000  5.170000e+00  \n",
       "max      5.680000    7.890000   51.510000  5.170000e+00  "
      ]
     },
     "execution_count": 76,
     "metadata": {},
     "output_type": "execute_result"
    }
   ],
   "source": [
    "df.describe()"
   ]
  },
  {
   "cell_type": "code",
   "execution_count": 79,
   "metadata": {},
   "outputs": [
    {
     "name": "stdout",
     "output_type": "stream",
     "text": [
      "Number of data points: 742\n",
      "Number of Cols: 13\n"
     ]
    }
   ],
   "source": [
    "print(\"Number of data points:\",df.shape[0])\n",
    "print(\"Number of Cols:\",df.shape[1])"
   ]
  },
  {
   "cell_type": "code",
   "execution_count": 80,
   "metadata": {},
   "outputs": [
    {
     "data": {
      "text/html": [
       "<div>\n",
       "<style scoped>\n",
       "    .dataframe tbody tr th:only-of-type {\n",
       "        vertical-align: middle;\n",
       "    }\n",
       "\n",
       "    .dataframe tbody tr th {\n",
       "        vertical-align: top;\n",
       "    }\n",
       "\n",
       "    .dataframe thead th {\n",
       "        text-align: right;\n",
       "    }\n",
       "</style>\n",
       "<table border=\"1\" class=\"dataframe\">\n",
       "  <thead>\n",
       "    <tr style=\"text-align: right;\">\n",
       "      <th></th>\n",
       "      <th>CCMS ID</th>\n",
       "      <th>Timestamp</th>\n",
       "      <th>KWh</th>\n",
       "      <th>KVAh</th>\n",
       "      <th>Vr</th>\n",
       "      <th>Vy</th>\n",
       "      <th>Vb</th>\n",
       "      <th>Ir</th>\n",
       "      <th>Iy</th>\n",
       "      <th>Ib</th>\n",
       "      <th>Freq</th>\n",
       "      <th>PF Total</th>\n",
       "      <th>Total Load</th>\n",
       "    </tr>\n",
       "  </thead>\n",
       "  <tbody>\n",
       "    <tr>\n",
       "      <th>0</th>\n",
       "      <td>SMR03-0219-0252</td>\n",
       "      <td>2019-05-01 23:00:00</td>\n",
       "      <td>2.732</td>\n",
       "      <td>2.752</td>\n",
       "      <td>233.23</td>\n",
       "      <td>234.30</td>\n",
       "      <td>235.21</td>\n",
       "      <td>10.31</td>\n",
       "      <td>5.41</td>\n",
       "      <td>5.79</td>\n",
       "      <td>50.08</td>\n",
       "      <td>0.955  Ld</td>\n",
       "      <td>5.17</td>\n",
       "    </tr>\n",
       "    <tr>\n",
       "      <th>1</th>\n",
       "      <td>SMR03-0219-0252</td>\n",
       "      <td>2019-05-01 22:00:00</td>\n",
       "      <td>5.108</td>\n",
       "      <td>5.143</td>\n",
       "      <td>236.64</td>\n",
       "      <td>238.00</td>\n",
       "      <td>238.73</td>\n",
       "      <td>10.53</td>\n",
       "      <td>5.40</td>\n",
       "      <td>5.78</td>\n",
       "      <td>50.08</td>\n",
       "      <td>0.987  Ld</td>\n",
       "      <td>5.17</td>\n",
       "    </tr>\n",
       "    <tr>\n",
       "      <th>2</th>\n",
       "      <td>SMR03-0219-0252</td>\n",
       "      <td>2019-05-01 21:00:00</td>\n",
       "      <td>5.120</td>\n",
       "      <td>5.156</td>\n",
       "      <td>237.01</td>\n",
       "      <td>238.69</td>\n",
       "      <td>239.36</td>\n",
       "      <td>10.54</td>\n",
       "      <td>5.40</td>\n",
       "      <td>5.79</td>\n",
       "      <td>50.10</td>\n",
       "      <td>0.987  Ld</td>\n",
       "      <td>5.17</td>\n",
       "    </tr>\n",
       "    <tr>\n",
       "      <th>3</th>\n",
       "      <td>SMR03-0219-0252</td>\n",
       "      <td>2019-05-01 20:00:00</td>\n",
       "      <td>4.985</td>\n",
       "      <td>5.025</td>\n",
       "      <td>237.29</td>\n",
       "      <td>238.79</td>\n",
       "      <td>239.56</td>\n",
       "      <td>9.71</td>\n",
       "      <td>5.42</td>\n",
       "      <td>5.79</td>\n",
       "      <td>50.07</td>\n",
       "      <td>0.985  Ld</td>\n",
       "      <td>5.17</td>\n",
       "    </tr>\n",
       "    <tr>\n",
       "      <th>4</th>\n",
       "      <td>SMR03-0219-0252</td>\n",
       "      <td>2019-05-01 19:00:00</td>\n",
       "      <td>0.372</td>\n",
       "      <td>0.375</td>\n",
       "      <td>244.08</td>\n",
       "      <td>245.06</td>\n",
       "      <td>245.75</td>\n",
       "      <td>0.52</td>\n",
       "      <td>0.26</td>\n",
       "      <td>0.26</td>\n",
       "      <td>50.24</td>\n",
       "      <td>0.87  Lag</td>\n",
       "      <td>5.17</td>\n",
       "    </tr>\n",
       "    <tr>\n",
       "      <th>5</th>\n",
       "      <td>SMR03-0219-0252</td>\n",
       "      <td>2019-05-01 18:00:00</td>\n",
       "      <td>0.000</td>\n",
       "      <td>0.000</td>\n",
       "      <td>241.00</td>\n",
       "      <td>241.85</td>\n",
       "      <td>242.38</td>\n",
       "      <td>0.00</td>\n",
       "      <td>0.00</td>\n",
       "      <td>0.00</td>\n",
       "      <td>50.11</td>\n",
       "      <td>--</td>\n",
       "      <td>5.17</td>\n",
       "    </tr>\n",
       "    <tr>\n",
       "      <th>6</th>\n",
       "      <td>SMR03-0219-0252</td>\n",
       "      <td>2019-05-01 17:00:00</td>\n",
       "      <td>0.000</td>\n",
       "      <td>0.000</td>\n",
       "      <td>239.73</td>\n",
       "      <td>240.39</td>\n",
       "      <td>240.82</td>\n",
       "      <td>0.00</td>\n",
       "      <td>0.00</td>\n",
       "      <td>0.00</td>\n",
       "      <td>50.06</td>\n",
       "      <td>--</td>\n",
       "      <td>5.17</td>\n",
       "    </tr>\n",
       "    <tr>\n",
       "      <th>7</th>\n",
       "      <td>SMR03-0219-0252</td>\n",
       "      <td>2019-05-01 16:00:00</td>\n",
       "      <td>0.000</td>\n",
       "      <td>0.000</td>\n",
       "      <td>238.14</td>\n",
       "      <td>238.96</td>\n",
       "      <td>239.35</td>\n",
       "      <td>0.00</td>\n",
       "      <td>0.00</td>\n",
       "      <td>0.00</td>\n",
       "      <td>50.01</td>\n",
       "      <td>--</td>\n",
       "      <td>5.17</td>\n",
       "    </tr>\n",
       "    <tr>\n",
       "      <th>8</th>\n",
       "      <td>SMR03-0219-0252</td>\n",
       "      <td>2019-05-01 15:00:00</td>\n",
       "      <td>0.000</td>\n",
       "      <td>0.000</td>\n",
       "      <td>241.32</td>\n",
       "      <td>241.94</td>\n",
       "      <td>242.50</td>\n",
       "      <td>0.00</td>\n",
       "      <td>0.00</td>\n",
       "      <td>0.00</td>\n",
       "      <td>50.00</td>\n",
       "      <td>--</td>\n",
       "      <td>5.17</td>\n",
       "    </tr>\n",
       "    <tr>\n",
       "      <th>9</th>\n",
       "      <td>SMR03-0219-0252</td>\n",
       "      <td>2019-05-01 14:00:00</td>\n",
       "      <td>0.000</td>\n",
       "      <td>0.000</td>\n",
       "      <td>244.48</td>\n",
       "      <td>244.98</td>\n",
       "      <td>245.67</td>\n",
       "      <td>0.00</td>\n",
       "      <td>0.00</td>\n",
       "      <td>0.00</td>\n",
       "      <td>50.05</td>\n",
       "      <td>--</td>\n",
       "      <td>5.17</td>\n",
       "    </tr>\n",
       "    <tr>\n",
       "      <th>10</th>\n",
       "      <td>SMR03-0219-0252</td>\n",
       "      <td>2019-05-01 13:00:00</td>\n",
       "      <td>0.000</td>\n",
       "      <td>0.000</td>\n",
       "      <td>243.99</td>\n",
       "      <td>244.54</td>\n",
       "      <td>245.26</td>\n",
       "      <td>0.00</td>\n",
       "      <td>0.00</td>\n",
       "      <td>0.00</td>\n",
       "      <td>50.08</td>\n",
       "      <td>--</td>\n",
       "      <td>5.17</td>\n",
       "    </tr>\n",
       "    <tr>\n",
       "      <th>11</th>\n",
       "      <td>SMR03-0219-0252</td>\n",
       "      <td>2019-05-01 12:00:00</td>\n",
       "      <td>0.000</td>\n",
       "      <td>0.000</td>\n",
       "      <td>243.82</td>\n",
       "      <td>244.59</td>\n",
       "      <td>245.16</td>\n",
       "      <td>0.00</td>\n",
       "      <td>0.00</td>\n",
       "      <td>0.00</td>\n",
       "      <td>50.04</td>\n",
       "      <td>--</td>\n",
       "      <td>5.17</td>\n",
       "    </tr>\n",
       "  </tbody>\n",
       "</table>\n",
       "</div>"
      ],
      "text/plain": [
       "            CCMS ID            Timestamp    KWh   KVAh      Vr      Vy  \\\n",
       "0   SMR03-0219-0252  2019-05-01 23:00:00  2.732  2.752  233.23  234.30   \n",
       "1   SMR03-0219-0252  2019-05-01 22:00:00  5.108  5.143  236.64  238.00   \n",
       "2   SMR03-0219-0252  2019-05-01 21:00:00  5.120  5.156  237.01  238.69   \n",
       "3   SMR03-0219-0252  2019-05-01 20:00:00  4.985  5.025  237.29  238.79   \n",
       "4   SMR03-0219-0252  2019-05-01 19:00:00  0.372  0.375  244.08  245.06   \n",
       "5   SMR03-0219-0252  2019-05-01 18:00:00  0.000  0.000  241.00  241.85   \n",
       "6   SMR03-0219-0252  2019-05-01 17:00:00  0.000  0.000  239.73  240.39   \n",
       "7   SMR03-0219-0252  2019-05-01 16:00:00  0.000  0.000  238.14  238.96   \n",
       "8   SMR03-0219-0252  2019-05-01 15:00:00  0.000  0.000  241.32  241.94   \n",
       "9   SMR03-0219-0252  2019-05-01 14:00:00  0.000  0.000  244.48  244.98   \n",
       "10  SMR03-0219-0252  2019-05-01 13:00:00  0.000  0.000  243.99  244.54   \n",
       "11  SMR03-0219-0252  2019-05-01 12:00:00  0.000  0.000  243.82  244.59   \n",
       "\n",
       "        Vb     Ir    Iy    Ib   Freq   PF Total  Total Load  \n",
       "0   235.21  10.31  5.41  5.79  50.08  0.955  Ld        5.17  \n",
       "1   238.73  10.53  5.40  5.78  50.08  0.987  Ld        5.17  \n",
       "2   239.36  10.54  5.40  5.79  50.10  0.987  Ld        5.17  \n",
       "3   239.56   9.71  5.42  5.79  50.07  0.985  Ld        5.17  \n",
       "4   245.75   0.52  0.26  0.26  50.24  0.87  Lag        5.17  \n",
       "5   242.38   0.00  0.00  0.00  50.11         --        5.17  \n",
       "6   240.82   0.00  0.00  0.00  50.06         --        5.17  \n",
       "7   239.35   0.00  0.00  0.00  50.01         --        5.17  \n",
       "8   242.50   0.00  0.00  0.00  50.00         --        5.17  \n",
       "9   245.67   0.00  0.00  0.00  50.05         --        5.17  \n",
       "10  245.26   0.00  0.00  0.00  50.08         --        5.17  \n",
       "11  245.16   0.00  0.00  0.00  50.04         --        5.17  "
      ]
     },
     "execution_count": 80,
     "metadata": {},
     "output_type": "execute_result"
    }
   ],
   "source": [
    "df.head(12)"
   ]
  },
  {
   "cell_type": "code",
   "execution_count": 82,
   "metadata": {},
   "outputs": [
    {
     "data": {
      "text/plain": [
       "0.000    361\n",
       "5.089      3\n",
       "4.461      3\n",
       "5.204      3\n",
       "4.477      3\n",
       "4.354      2\n",
       "5.194      2\n",
       "5.218      2\n",
       "5.227      2\n",
       "4.703      2\n",
       "5.212      2\n",
       "5.024      2\n",
       "5.101      2\n",
       "5.211      2\n",
       "5.028      2\n",
       "5.205      2\n",
       "4.388      2\n",
       "5.267      2\n",
       "4.423      2\n",
       "4.403      2\n",
       "5.215      2\n",
       "4.379      2\n",
       "5.207      2\n",
       "5.238      2\n",
       "5.198      2\n",
       "5.113      2\n",
       "4.578      2\n",
       "4.411      2\n",
       "5.187      2\n",
       "5.183      2\n",
       "        ... \n",
       "4.377      1\n",
       "4.476      1\n",
       "4.552      1\n",
       "5.258      1\n",
       "0.561      1\n",
       "4.279      1\n",
       "4.294      1\n",
       "1.140      1\n",
       "4.614      1\n",
       "5.281      1\n",
       "4.280      1\n",
       "0.887      1\n",
       "4.320      1\n",
       "5.280      1\n",
       "2.695      1\n",
       "0.639      1\n",
       "4.569      1\n",
       "3.218      1\n",
       "3.101      1\n",
       "4.735      1\n",
       "4.439      1\n",
       "1.076      1\n",
       "0.130      1\n",
       "4.163      1\n",
       "4.462      1\n",
       "4.783      1\n",
       "4.457      1\n",
       "4.305      1\n",
       "1.128      1\n",
       "4.349      1\n",
       "Name: KWh, Length: 328, dtype: int64"
      ]
     },
     "execution_count": 82,
     "metadata": {},
     "output_type": "execute_result"
    }
   ],
   "source": [
    "df[\"KWh\"].value_counts()"
   ]
  },
  {
   "cell_type": "code",
   "execution_count": null,
   "metadata": {},
   "outputs": [],
   "source": []
  },
  {
   "cell_type": "code",
   "execution_count": 86,
   "metadata": {},
   "outputs": [
    {
     "name": "stdout",
     "output_type": "stream",
     "text": [
      "<class 'pandas.core.frame.DataFrame'>\n",
      "RangeIndex: 742 entries, 0 to 741\n",
      "Data columns (total 13 columns):\n",
      "CCMS ID       742 non-null object\n",
      "Timestamp     742 non-null object\n",
      "KWh           742 non-null float64\n",
      "KVAh          742 non-null float64\n",
      "Vr            742 non-null float64\n",
      "Vy            742 non-null float64\n",
      "Vb            742 non-null float64\n",
      "Ir            742 non-null float64\n",
      "Iy            742 non-null float64\n",
      "Ib            742 non-null float64\n",
      "Freq          742 non-null float64\n",
      "PF Total      742 non-null object\n",
      "Total Load    742 non-null float64\n",
      "dtypes: float64(10), object(3)\n",
      "memory usage: 75.4+ KB\n"
     ]
    }
   ],
   "source": [
    "df.info()"
   ]
  },
  {
   "cell_type": "code",
   "execution_count": 87,
   "metadata": {},
   "outputs": [],
   "source": [
    "unique_ccms = len(np.unique(\"CCMS ID\"))"
   ]
  },
  {
   "cell_type": "code",
   "execution_count": 88,
   "metadata": {},
   "outputs": [
    {
     "name": "stdout",
     "output_type": "stream",
     "text": [
      "No of CCMS Given =  1\n"
     ]
    }
   ],
   "source": [
    "print(\"No of CCMS Given = \", unique_ccms)"
   ]
  },
  {
   "cell_type": "markdown",
   "metadata": {},
   "source": [
    "### Current in R, Y and B phase is less than 0.2"
   ]
  },
  {
   "cell_type": "code",
   "execution_count": 89,
   "metadata": {
    "scrolled": true
   },
   "outputs": [
    {
     "data": {
      "text/html": [
       "<div>\n",
       "<style scoped>\n",
       "    .dataframe tbody tr th:only-of-type {\n",
       "        vertical-align: middle;\n",
       "    }\n",
       "\n",
       "    .dataframe tbody tr th {\n",
       "        vertical-align: top;\n",
       "    }\n",
       "\n",
       "    .dataframe thead th {\n",
       "        text-align: right;\n",
       "    }\n",
       "</style>\n",
       "<table border=\"1\" class=\"dataframe\">\n",
       "  <thead>\n",
       "    <tr style=\"text-align: right;\">\n",
       "      <th></th>\n",
       "      <th>CCMS ID</th>\n",
       "      <th>Timestamp</th>\n",
       "      <th>KWh</th>\n",
       "      <th>KVAh</th>\n",
       "      <th>Vr</th>\n",
       "      <th>Vy</th>\n",
       "      <th>Vb</th>\n",
       "      <th>Ir</th>\n",
       "      <th>Iy</th>\n",
       "      <th>Ib</th>\n",
       "      <th>Freq</th>\n",
       "      <th>PF Total</th>\n",
       "      <th>Total Load</th>\n",
       "    </tr>\n",
       "  </thead>\n",
       "  <tbody>\n",
       "    <tr>\n",
       "      <th>0</th>\n",
       "      <td>SMR03-0219-0252</td>\n",
       "      <td>2019-05-01 23:00:00</td>\n",
       "      <td>2.732</td>\n",
       "      <td>2.752</td>\n",
       "      <td>233.23</td>\n",
       "      <td>234.30</td>\n",
       "      <td>235.21</td>\n",
       "      <td>10.31</td>\n",
       "      <td>5.41</td>\n",
       "      <td>5.79</td>\n",
       "      <td>50.08</td>\n",
       "      <td>0.955  Ld</td>\n",
       "      <td>5.17</td>\n",
       "    </tr>\n",
       "    <tr>\n",
       "      <th>1</th>\n",
       "      <td>SMR03-0219-0252</td>\n",
       "      <td>2019-05-01 22:00:00</td>\n",
       "      <td>5.108</td>\n",
       "      <td>5.143</td>\n",
       "      <td>236.64</td>\n",
       "      <td>238.00</td>\n",
       "      <td>238.73</td>\n",
       "      <td>10.53</td>\n",
       "      <td>5.40</td>\n",
       "      <td>5.78</td>\n",
       "      <td>50.08</td>\n",
       "      <td>0.987  Ld</td>\n",
       "      <td>5.17</td>\n",
       "    </tr>\n",
       "    <tr>\n",
       "      <th>2</th>\n",
       "      <td>SMR03-0219-0252</td>\n",
       "      <td>2019-05-01 21:00:00</td>\n",
       "      <td>5.120</td>\n",
       "      <td>5.156</td>\n",
       "      <td>237.01</td>\n",
       "      <td>238.69</td>\n",
       "      <td>239.36</td>\n",
       "      <td>10.54</td>\n",
       "      <td>5.40</td>\n",
       "      <td>5.79</td>\n",
       "      <td>50.10</td>\n",
       "      <td>0.987  Ld</td>\n",
       "      <td>5.17</td>\n",
       "    </tr>\n",
       "  </tbody>\n",
       "</table>\n",
       "</div>"
      ],
      "text/plain": [
       "           CCMS ID            Timestamp    KWh   KVAh      Vr      Vy      Vb  \\\n",
       "0  SMR03-0219-0252  2019-05-01 23:00:00  2.732  2.752  233.23  234.30  235.21   \n",
       "1  SMR03-0219-0252  2019-05-01 22:00:00  5.108  5.143  236.64  238.00  238.73   \n",
       "2  SMR03-0219-0252  2019-05-01 21:00:00  5.120  5.156  237.01  238.69  239.36   \n",
       "\n",
       "      Ir    Iy    Ib   Freq   PF Total  Total Load  \n",
       "0  10.31  5.41  5.79  50.08  0.955  Ld        5.17  \n",
       "1  10.53  5.40  5.78  50.08  0.987  Ld        5.17  \n",
       "2  10.54  5.40  5.79  50.10  0.987  Ld        5.17  "
      ]
     },
     "execution_count": 89,
     "metadata": {},
     "output_type": "execute_result"
    }
   ],
   "source": [
    "df.head(3)"
   ]
  },
  {
   "cell_type": "markdown",
   "metadata": {},
   "source": [
    "### Distribution of KWH Value"
   ]
  },
  {
   "cell_type": "code",
   "execution_count": 90,
   "metadata": {},
   "outputs": [],
   "source": [
    "sorted_KWH = df.sort_values(['KWh'], ascending=False)\n",
    "KWH_counts = sorted_KWH['KWh'].values"
   ]
  },
  {
   "cell_type": "code",
   "execution_count": 99,
   "metadata": {},
   "outputs": [
    {
     "data": {
      "image/png": "[encoded data removed]",
      "text/plain": [
       "<Figure size 432x288 with 1 Axes>"
      ]
     },
     "metadata": {},
     "output_type": "display_data"
    }
   ],
   "source": [
    "plt.plot(KWH_counts)\n",
    "plt.title(\"Distribution of KWhr Values\")\n",
    "plt.grid()\n",
    "plt.xlabel(\"Distribution of KWH Value\")\n",
    "plt.ylabel(\"KWH VAlue\")\n",
    "plt.show()"
   ]
  },
  {
   "cell_type": "markdown",
   "metadata": {},
   "source": [
    "### Distribution of Vr, Vy, Vb"
   ]
  },
  {
   "cell_type": "code",
   "execution_count": 100,
   "metadata": {},
   "outputs": [],
   "source": [
    "sorted_Vr = df.sort_values(['Vr'], ascending=False)\n",
    "Vr_counts = sorted_Vr['Vr'].values\n",
    "sorted_Vb = df.sort_values(['Vb'], ascending=False)\n",
    "Vb_counts = sorted_Vb['Vb'].values\n",
    "sorted_Vy = df.sort_values(['Vy'], ascending=False)\n",
    "Vy_counts = sorted_Vy['Vy'].values"
   ]
  },
  {
   "cell_type": "code",
   "execution_count": 102,
   "metadata": {},
   "outputs": [
    {
     "data": {
      "image/png": "[encoded data removed]",
      "text/plain": [
       "<Figure size 432x288 with 1 Axes>"
      ]
     },
     "metadata": {},
     "output_type": "display_data"
    }
   ],
   "source": [
    "plt.plot(Vr_counts, label=\"Vr\")\n",
    "plt.plot(Vy_counts, label=\"Vy\")\n",
    "plt.plot(Vb_counts, label=\"Vb\")\n",
    "plt.title(\"Distribution of Voltage\")\n",
    "plt.grid()\n",
    "plt.xlabel(\"Distribution of Data_Points\")\n",
    "plt.ylabel(\"Phase Voltage Value\")\n",
    "plt.legend()\n",
    "plt.show()"
   ]
  },
  {
   "cell_type": "markdown",
   "metadata": {},
   "source": [
    "## Conclusion: All voltages are constant"
   ]
  },
  {
   "cell_type": "code",
   "execution_count": null,
   "metadata": {},
   "outputs": [],
   "source": [
    "df=df[df.Ir>=0.05]\n",
    "df=df[df.Ib>=0.05]\n",
    "df=df[df.Iy>=0.05]"
   ]
  },
  {
   "cell_type": "code",
   "execution_count": null,
   "metadata": {},
   "outputs": [],
   "source": [
    "print(\"Number of data points:\",df.shape[0])\n",
    "print(\"Number of Cols:\",df.shape[1])"
   ]
  },
  {
   "cell_type": "code",
   "execution_count": null,
   "metadata": {},
   "outputs": [],
   "source": [
    "df=df[df.Ir>=0.4]\n",
    "df=df[df.Ib>=0.4]\n",
    "df=df[df.Iy>=0.4]"
   ]
  },
  {
   "cell_type": "code",
   "execution_count": null,
   "metadata": {},
   "outputs": [],
   "source": []
  },
  {
   "cell_type": "code",
   "execution_count": null,
   "metadata": {},
   "outputs": [],
   "source": [
    "df=df[df.Ir>=0.4]\n",
    "df=df[df.Ib>=0.4]\n",
    "df=df[df.Iy>=0.4]"
   ]
  },
  {
   "cell_type": "code",
   "execution_count": null,
   "metadata": {},
   "outputs": [],
   "source": []
  },
  {
   "cell_type": "code",
   "execution_count": null,
   "metadata": {},
   "outputs": [],
   "source": [
    "df=df[df.Ir>=0.4]\n",
    "df=df[df.Ib>=0.4]\n",
    "df=df[df.Iy>=0.4]"
   ]
  },
  {
   "cell_type": "code",
   "execution_count": null,
   "metadata": {},
   "outputs": [],
   "source": []
  },
  {
   "cell_type": "code",
   "execution_count": null,
   "metadata": {},
   "outputs": [],
   "source": []
  },
  {
   "cell_type": "code",
   "execution_count": null,
   "metadata": {},
   "outputs": [],
   "source": [
    "df=df[df.Ir>=0.4]\n",
    "df=df[df.Ib>=0.4]\n",
    "df=df[df.Iy>=0.4]"
   ]
  },
  {
   "cell_type": "code",
   "execution_count": null,
   "metadata": {},
   "outputs": [],
   "source": []
  },
  {
   "cell_type": "code",
   "execution_count": 65,
   "metadata": {},
   "outputs": [],
   "source": [
    "df=df[df.Ir>=0.1]\n",
    "df=df[df.Ib>=0.1]\n",
    "df=df[df.Iy>=0.1]"
   ]
  },
  {
   "cell_type": "markdown",
   "metadata": {},
   "source": [
    "### New shape of data"
   ]
  },
  {
   "cell_type": "code",
   "execution_count": 66,
   "metadata": {},
   "outputs": [
    {
     "name": "stdout",
     "output_type": "stream",
     "text": [
      "Number of data points: 362\n",
      "Number of Cols: 13\n"
     ]
    }
   ],
   "source": [
    "print(\"Number of data points:\",df.shape[0])\n",
    "print(\"Number of Cols:\",df.shape[1])"
   ]
  },
  {
   "cell_type": "code",
   "execution_count": 67,
   "metadata": {},
   "outputs": [],
   "source": [
    "df=df[df.Ir>=0.2]\n",
    "df=df[df.Ib>=0.2]\n",
    "df=df[df.Iy>=0.2]"
   ]
  },
  {
   "cell_type": "code",
   "execution_count": 68,
   "metadata": {},
   "outputs": [
    {
     "name": "stdout",
     "output_type": "stream",
     "text": [
      "Number of data points: 360\n",
      "Number of Cols: 13\n"
     ]
    }
   ],
   "source": [
    "print(\"Number of data points:\",df.shape[0])\n",
    "print(\"Number of Cols:\",df.shape[1])"
   ]
  },
  {
   "cell_type": "code",
   "execution_count": 69,
   "metadata": {},
   "outputs": [],
   "source": [
    "df=df[df.Ir>=0.3]\n",
    "df=df[df.Ib>=0.3]\n",
    "df=df[df.Iy>=0.3]"
   ]
  },
  {
   "cell_type": "code",
   "execution_count": 70,
   "metadata": {},
   "outputs": [
    {
     "name": "stdout",
     "output_type": "stream",
     "text": [
      "Number of data points: 358\n",
      "Number of Cols: 13\n"
     ]
    }
   ],
   "source": [
    "print(\"Number of data points:\",df.shape[0])\n",
    "print(\"Number of Cols:\",df.shape[1])"
   ]
  },
  {
   "cell_type": "code",
   "execution_count": 71,
   "metadata": {},
   "outputs": [],
   "source": [
    "df=df[df.Ir>=0.4]\n",
    "df=df[df.Ib>=0.4]\n",
    "df=df[df.Iy>=0.4]"
   ]
  },
  {
   "cell_type": "code",
   "execution_count": 72,
   "metadata": {},
   "outputs": [
    {
     "name": "stdout",
     "output_type": "stream",
     "text": [
      "Number of data points: 355\n",
      "Number of Cols: 13\n"
     ]
    }
   ],
   "source": [
    "print(\"Number of data points:\",df.shape[0])\n",
    "print(\"Number of Cols:\",df.shape[1])"
   ]
  },
  {
   "cell_type": "code",
   "execution_count": 73,
   "metadata": {},
   "outputs": [],
   "source": [
    "df=df[df.Ir>=0.5]\n",
    "df=df[df.Ib>=0.5]\n",
    "df=df[df.Iy>=0.5]"
   ]
  },
  {
   "cell_type": "code",
   "execution_count": 74,
   "metadata": {},
   "outputs": [
    {
     "name": "stdout",
     "output_type": "stream",
     "text": [
      "Number of data points: 354\n",
      "Number of Cols: 13\n"
     ]
    }
   ],
   "source": [
    "print(\"Number of data points:\",df.shape[0])\n",
    "print(\"Number of Cols:\",df.shape[1])"
   ]
  },
  {
   "cell_type": "code",
   "execution_count": null,
   "metadata": {},
   "outputs": [],
   "source": []
  },
  {
   "cell_type": "code",
   "execution_count": null,
   "metadata": {},
   "outputs": [],
   "source": []
  },
  {
   "cell_type": "code",
   "execution_count": null,
   "metadata": {},
   "outputs": [],
   "source": []
  },
  {
   "cell_type": "code",
   "execution_count": null,
   "metadata": {},
   "outputs": [],
   "source": []
  },
  {
   "cell_type": "code",
   "execution_count": 42,
   "metadata": {},
   "outputs": [
    {
     "data": {
      "text/plain": [
       "<matplotlib.axes._subplots.AxesSubplot at 0x214d2a758d0>"
      ]
     },
     "execution_count": 42,
     "metadata": {},
     "output_type": "execute_result"
    },
    {
     "data": {
      "image/png": "[encoded data removed]",
      "text/plain": [
       "<Figure size 432x288 with 1 Axes>"
      ]
     },
     "metadata": {},
     "output_type": "display_data"
    }
   ],
   "source": [
    "df.groupby(\"Total Load\")['Freq'].count().plot.bar()"
   ]
  },
  {
   "cell_type": "code",
   "execution_count": 45,
   "metadata": {},
   "outputs": [
    {
     "data": {
      "text/plain": [
       "<matplotlib.axes._subplots.AxesSubplot at 0x214d714efd0>"
      ]
     },
     "execution_count": 45,
     "metadata": {},
     "output_type": "execute_result"
    },
    {
     "data": {
      "image/png": "[encoded data removed]",
      "text/plain": [
       "<Figure size 432x288 with 1 Axes>"
      ]
     },
     "metadata": {},
     "output_type": "display_data"
    }
   ],
   "source": [
    "df.groupby(\"Total Load\")[\"Vr \"].count().plot.bar()"
   ]
  },
  {
   "cell_type": "code",
   "execution_count": null,
   "metadata": {},
   "outputs": [],
   "source": [
    "df=df[]"
   ]
  }
 ],
 "metadata": {
  "kernelspec": {
   "display_name": "Python 3",
   "language": "python",
   "name": "python3"
  },
  "language_info": {
   "codemirror_mode": {
    "name": "ipython",
    "version": 3
   },
   "file_extension": ".py",
   "mimetype": "text/x-python",
   "name": "python",
   "nbconvert_exporter": "python",
   "pygments_lexer": "ipython3",
   "version": "3.6.5"
  }
 },
 "nbformat": 4,
 "nbformat_minor": 2
}
