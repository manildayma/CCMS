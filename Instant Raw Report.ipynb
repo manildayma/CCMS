{
 "cells": [
  {
   "cell_type": "code",
   "execution_count": 1,
   "metadata": {},
   "outputs": [],
   "source": [
    "import pandas as pd\n",
    "import numpy as np\n",
    "import seaborn as sns\n",
    "import matplotlib.pyplot as plt\n",
    "import nltk\n",
    "import os\n"
   ]
  },
  {
   "cell_type": "code",
   "execution_count": null,
   "metadata": {},
   "outputs": [],
   "source": []
  },
  {
   "cell_type": "code",
   "execution_count": 2,
   "metadata": {},
   "outputs": [],
   "source": [
    "df=pd.read_excel(r\"C:\\Users\\Cyborg\\Downloads\\Instant Raw Report (11).xlsx\")"
   ]
  },
  {
   "cell_type": "code",
   "execution_count": 3,
   "metadata": {},
   "outputs": [
    {
     "data": {
      "text/html": [
       "<div>\n",
       "<style scoped>\n",
       "    .dataframe tbody tr th:only-of-type {\n",
       "        vertical-align: middle;\n",
       "    }\n",
       "\n",
       "    .dataframe tbody tr th {\n",
       "        vertical-align: top;\n",
       "    }\n",
       "\n",
       "    .dataframe thead th {\n",
       "        text-align: right;\n",
       "    }\n",
       "</style>\n",
       "<table border=\"1\" class=\"dataframe\">\n",
       "  <thead>\n",
       "    <tr style=\"text-align: right;\">\n",
       "      <th></th>\n",
       "      <th>Active_Power</th>\n",
       "      <th>Apparent_Power</th>\n",
       "      <th>Current_R</th>\n",
       "      <th>Current_Y</th>\n",
       "      <th>Current_B</th>\n",
       "      <th>Voltage_R</th>\n",
       "      <th>Voltage_Y</th>\n",
       "      <th>Voltage_B</th>\n",
       "      <th>Frequency</th>\n",
       "      <th>MD_kVA</th>\n",
       "      <th>MD_kW</th>\n",
       "      <th>R_Phase</th>\n",
       "      <th>Y_Phase</th>\n",
       "      <th>B_Phase</th>\n",
       "      <th>Total_Active_Energy</th>\n",
       "      <th>Total_Apparent_Energy</th>\n",
       "      <th>Current_Day_KWH</th>\n",
       "      <th>Current_Day_KVAh</th>\n",
       "    </tr>\n",
       "  </thead>\n",
       "  <tbody>\n",
       "    <tr>\n",
       "      <th>count</th>\n",
       "      <td>2677.000000</td>\n",
       "      <td>2677.000000</td>\n",
       "      <td>2677.000000</td>\n",
       "      <td>2677.000000</td>\n",
       "      <td>2677.000000</td>\n",
       "      <td>2677.000000</td>\n",
       "      <td>2677.000000</td>\n",
       "      <td>2677.000000</td>\n",
       "      <td>2677.000000</td>\n",
       "      <td>2677.000000</td>\n",
       "      <td>2677.000000</td>\n",
       "      <td>2677.000000</td>\n",
       "      <td>2677.000000</td>\n",
       "      <td>2677.000000</td>\n",
       "      <td>2677.000000</td>\n",
       "      <td>2677.000000</td>\n",
       "      <td>2677.000000</td>\n",
       "      <td>2677.000000</td>\n",
       "    </tr>\n",
       "    <tr>\n",
       "      <th>mean</th>\n",
       "      <td>2.168326</td>\n",
       "      <td>2.182518</td>\n",
       "      <td>4.783605</td>\n",
       "      <td>1.353747</td>\n",
       "      <td>3.043582</td>\n",
       "      <td>239.106235</td>\n",
       "      <td>239.375387</td>\n",
       "      <td>239.260362</td>\n",
       "      <td>50.014967</td>\n",
       "      <td>4.027826</td>\n",
       "      <td>4.005151</td>\n",
       "      <td>1.131102</td>\n",
       "      <td>0.315103</td>\n",
       "      <td>0.717826</td>\n",
       "      <td>6554.472007</td>\n",
       "      <td>6592.560025</td>\n",
       "      <td>26.731829</td>\n",
       "      <td>26.926167</td>\n",
       "    </tr>\n",
       "    <tr>\n",
       "      <th>std</th>\n",
       "      <td>2.381102</td>\n",
       "      <td>2.396681</td>\n",
       "      <td>5.228688</td>\n",
       "      <td>1.959552</td>\n",
       "      <td>3.338796</td>\n",
       "      <td>8.257170</td>\n",
       "      <td>8.790644</td>\n",
       "      <td>9.200175</td>\n",
       "      <td>0.066142</td>\n",
       "      <td>1.907022</td>\n",
       "      <td>1.895738</td>\n",
       "      <td>1.235374</td>\n",
       "      <td>0.454676</td>\n",
       "      <td>0.788004</td>\n",
       "      <td>448.534381</td>\n",
       "      <td>451.449749</td>\n",
       "      <td>10.722209</td>\n",
       "      <td>10.792976</td>\n",
       "    </tr>\n",
       "    <tr>\n",
       "      <th>min</th>\n",
       "      <td>0.000000</td>\n",
       "      <td>0.000000</td>\n",
       "      <td>0.000000</td>\n",
       "      <td>0.000000</td>\n",
       "      <td>0.000000</td>\n",
       "      <td>220.980000</td>\n",
       "      <td>220.210000</td>\n",
       "      <td>219.570000</td>\n",
       "      <td>49.721000</td>\n",
       "      <td>0.000000</td>\n",
       "      <td>0.000000</td>\n",
       "      <td>0.000000</td>\n",
       "      <td>0.000000</td>\n",
       "      <td>0.000000</td>\n",
       "      <td>5743.752000</td>\n",
       "      <td>5776.698000</td>\n",
       "      <td>0.018000</td>\n",
       "      <td>0.031000</td>\n",
       "    </tr>\n",
       "    <tr>\n",
       "      <th>25%</th>\n",
       "      <td>0.000000</td>\n",
       "      <td>0.000000</td>\n",
       "      <td>0.000000</td>\n",
       "      <td>0.000000</td>\n",
       "      <td>0.000000</td>\n",
       "      <td>232.330000</td>\n",
       "      <td>231.990000</td>\n",
       "      <td>231.360000</td>\n",
       "      <td>49.983000</td>\n",
       "      <td>1.290000</td>\n",
       "      <td>1.280000</td>\n",
       "      <td>0.000000</td>\n",
       "      <td>0.000000</td>\n",
       "      <td>0.000000</td>\n",
       "      <td>6174.681000</td>\n",
       "      <td>6210.318000</td>\n",
       "      <td>24.067000</td>\n",
       "      <td>24.283000</td>\n",
       "    </tr>\n",
       "    <tr>\n",
       "      <th>50%</th>\n",
       "      <td>0.000000</td>\n",
       "      <td>0.000000</td>\n",
       "      <td>0.000000</td>\n",
       "      <td>0.000000</td>\n",
       "      <td>0.000000</td>\n",
       "      <td>238.750000</td>\n",
       "      <td>239.060000</td>\n",
       "      <td>239.000000</td>\n",
       "      <td>50.022000</td>\n",
       "      <td>5.350000</td>\n",
       "      <td>5.320000</td>\n",
       "      <td>0.000000</td>\n",
       "      <td>0.000000</td>\n",
       "      <td>0.000000</td>\n",
       "      <td>6571.720000</td>\n",
       "      <td>6609.643000</td>\n",
       "      <td>27.296000</td>\n",
       "      <td>27.534000</td>\n",
       "    </tr>\n",
       "    <tr>\n",
       "      <th>75%</th>\n",
       "      <td>4.580000</td>\n",
       "      <td>4.610000</td>\n",
       "      <td>10.470000</td>\n",
       "      <td>1.370000</td>\n",
       "      <td>6.720000</td>\n",
       "      <td>246.240000</td>\n",
       "      <td>247.150000</td>\n",
       "      <td>247.110000</td>\n",
       "      <td>50.061000</td>\n",
       "      <td>5.350000</td>\n",
       "      <td>5.320000</td>\n",
       "      <td>2.470000</td>\n",
       "      <td>0.310000</td>\n",
       "      <td>1.580000</td>\n",
       "      <td>6940.359000</td>\n",
       "      <td>6980.919000</td>\n",
       "      <td>31.699000</td>\n",
       "      <td>31.909000</td>\n",
       "    </tr>\n",
       "    <tr>\n",
       "      <th>max</th>\n",
       "      <td>5.540000</td>\n",
       "      <td>5.570000</td>\n",
       "      <td>11.520000</td>\n",
       "      <td>5.640000</td>\n",
       "      <td>7.900000</td>\n",
       "      <td>257.190000</td>\n",
       "      <td>258.940000</td>\n",
       "      <td>259.490000</td>\n",
       "      <td>50.327000</td>\n",
       "      <td>5.350000</td>\n",
       "      <td>5.320000</td>\n",
       "      <td>2.690000</td>\n",
       "      <td>1.290000</td>\n",
       "      <td>1.870000</td>\n",
       "      <td>7329.234000</td>\n",
       "      <td>7372.664000</td>\n",
       "      <td>59.054000</td>\n",
       "      <td>59.439000</td>\n",
       "    </tr>\n",
       "  </tbody>\n",
       "</table>\n",
       "</div>"
      ],
      "text/plain": [
       "       Active_Power  Apparent_Power    Current_R    Current_Y    Current_B  \\\n",
       "count   2677.000000     2677.000000  2677.000000  2677.000000  2677.000000   \n",
       "mean       2.168326        2.182518     4.783605     1.353747     3.043582   \n",
       "std        2.381102        2.396681     5.228688     1.959552     3.338796   \n",
       "min        0.000000        0.000000     0.000000     0.000000     0.000000   \n",
       "25%        0.000000        0.000000     0.000000     0.000000     0.000000   \n",
       "50%        0.000000        0.000000     0.000000     0.000000     0.000000   \n",
       "75%        4.580000        4.610000    10.470000     1.370000     6.720000   \n",
       "max        5.540000        5.570000    11.520000     5.640000     7.900000   \n",
       "\n",
       "         Voltage_R    Voltage_Y    Voltage_B    Frequency       MD_kVA  \\\n",
       "count  2677.000000  2677.000000  2677.000000  2677.000000  2677.000000   \n",
       "mean    239.106235   239.375387   239.260362    50.014967     4.027826   \n",
       "std       8.257170     8.790644     9.200175     0.066142     1.907022   \n",
       "min     220.980000   220.210000   219.570000    49.721000     0.000000   \n",
       "25%     232.330000   231.990000   231.360000    49.983000     1.290000   \n",
       "50%     238.750000   239.060000   239.000000    50.022000     5.350000   \n",
       "75%     246.240000   247.150000   247.110000    50.061000     5.350000   \n",
       "max     257.190000   258.940000   259.490000    50.327000     5.350000   \n",
       "\n",
       "             MD_kW      R_Phase      Y_Phase      B_Phase  \\\n",
       "count  2677.000000  2677.000000  2677.000000  2677.000000   \n",
       "mean      4.005151     1.131102     0.315103     0.717826   \n",
       "std       1.895738     1.235374     0.454676     0.788004   \n",
       "min       0.000000     0.000000     0.000000     0.000000   \n",
       "25%       1.280000     0.000000     0.000000     0.000000   \n",
       "50%       5.320000     0.000000     0.000000     0.000000   \n",
       "75%       5.320000     2.470000     0.310000     1.580000   \n",
       "max       5.320000     2.690000     1.290000     1.870000   \n",
       "\n",
       "       Total_Active_Energy  Total_Apparent_Energy  Current_Day_KWH  \\\n",
       "count          2677.000000            2677.000000      2677.000000   \n",
       "mean           6554.472007            6592.560025        26.731829   \n",
       "std             448.534381             451.449749        10.722209   \n",
       "min            5743.752000            5776.698000         0.018000   \n",
       "25%            6174.681000            6210.318000        24.067000   \n",
       "50%            6571.720000            6609.643000        27.296000   \n",
       "75%            6940.359000            6980.919000        31.699000   \n",
       "max            7329.234000            7372.664000        59.054000   \n",
       "\n",
       "       Current_Day_KVAh  \n",
       "count       2677.000000  \n",
       "mean          26.926167  \n",
       "std           10.792976  \n",
       "min            0.031000  \n",
       "25%           24.283000  \n",
       "50%           27.534000  \n",
       "75%           31.909000  \n",
       "max           59.439000  "
      ]
     },
     "execution_count": 3,
     "metadata": {},
     "output_type": "execute_result"
    }
   ],
   "source": [
    "df.describe()"
   ]
  },
  {
   "cell_type": "code",
   "execution_count": 4,
   "metadata": {},
   "outputs": [
    {
     "name": "stdout",
     "output_type": "stream",
     "text": [
      "Number of data points: 2677\n",
      "Number of Cols: 29\n"
     ]
    }
   ],
   "source": [
    "print(\"Number of data points:\",df.shape[0])\n",
    "print(\"Number of Cols:\",df.shape[1])"
   ]
  },
  {
   "cell_type": "code",
   "execution_count": 5,
   "metadata": {},
   "outputs": [
    {
     "data": {
      "text/html": [
       "<div>\n",
       "<style scoped>\n",
       "    .dataframe tbody tr th:only-of-type {\n",
       "        vertical-align: middle;\n",
       "    }\n",
       "\n",
       "    .dataframe tbody tr th {\n",
       "        vertical-align: top;\n",
       "    }\n",
       "\n",
       "    .dataframe thead th {\n",
       "        text-align: right;\n",
       "    }\n",
       "</style>\n",
       "<table border=\"1\" class=\"dataframe\">\n",
       "  <thead>\n",
       "    <tr style=\"text-align: right;\">\n",
       "      <th></th>\n",
       "      <th>CCMS_ID</th>\n",
       "      <th>Timestamp</th>\n",
       "      <th>Active_Power</th>\n",
       "      <th>Apparent_Power</th>\n",
       "      <th>Current_R</th>\n",
       "      <th>Current_Y</th>\n",
       "      <th>Current_B</th>\n",
       "      <th>Voltage_R</th>\n",
       "      <th>Voltage_Y</th>\n",
       "      <th>Voltage_B</th>\n",
       "      <th>...</th>\n",
       "      <th>B_Phase</th>\n",
       "      <th>Active_Mode</th>\n",
       "      <th>Total_Active_Energy</th>\n",
       "      <th>Total_Apparent_Energy</th>\n",
       "      <th>Current_Day_KWH</th>\n",
       "      <th>Current_Day_KVAh</th>\n",
       "      <th>Power_On_Time</th>\n",
       "      <th>Relay_On_Time</th>\n",
       "      <th>Current_Day_Meter_On_Period</th>\n",
       "      <th>Current_Day_Relay_On_Period</th>\n",
       "    </tr>\n",
       "  </thead>\n",
       "  <tbody>\n",
       "    <tr>\n",
       "      <th>0</th>\n",
       "      <td>SMR03-0219-0252</td>\n",
       "      <td>2019-05-01 23:44:42</td>\n",
       "      <td>5.11</td>\n",
       "      <td>5.15</td>\n",
       "      <td>10.66</td>\n",
       "      <td>5.47</td>\n",
       "      <td>5.85</td>\n",
       "      <td>233.48</td>\n",
       "      <td>234.57</td>\n",
       "      <td>235.40</td>\n",
       "      <td>...</td>\n",
       "      <td>1.36</td>\n",
       "      <td>AUTO</td>\n",
       "      <td>7329.234</td>\n",
       "      <td>7372.664</td>\n",
       "      <td>49.204</td>\n",
       "      <td>49.591</td>\n",
       "      <td>1615:42:7</td>\n",
       "      <td>791:3:44</td>\n",
       "      <td>22:47:44</td>\n",
       "      <td>9:38:30</td>\n",
       "    </tr>\n",
       "    <tr>\n",
       "      <th>1</th>\n",
       "      <td>SMR03-0219-0252</td>\n",
       "      <td>2019-05-01 23:29:04</td>\n",
       "      <td>5.11</td>\n",
       "      <td>5.14</td>\n",
       "      <td>10.65</td>\n",
       "      <td>5.48</td>\n",
       "      <td>5.83</td>\n",
       "      <td>233.56</td>\n",
       "      <td>234.34</td>\n",
       "      <td>235.45</td>\n",
       "      <td>...</td>\n",
       "      <td>1.35</td>\n",
       "      <td>AUTO</td>\n",
       "      <td>7327.901</td>\n",
       "      <td>7371.322</td>\n",
       "      <td>47.871</td>\n",
       "      <td>48.249</td>\n",
       "      <td>1615:26:31</td>\n",
       "      <td>790:48:8</td>\n",
       "      <td>22:32:8</td>\n",
       "      <td>9:22:54</td>\n",
       "    </tr>\n",
       "    <tr>\n",
       "      <th>2</th>\n",
       "      <td>SMR03-0219-0252</td>\n",
       "      <td>2019-05-01 23:13:58</td>\n",
       "      <td>5.11</td>\n",
       "      <td>5.14</td>\n",
       "      <td>10.74</td>\n",
       "      <td>5.52</td>\n",
       "      <td>5.89</td>\n",
       "      <td>231.74</td>\n",
       "      <td>232.72</td>\n",
       "      <td>233.72</td>\n",
       "      <td>...</td>\n",
       "      <td>1.35</td>\n",
       "      <td>AUTO</td>\n",
       "      <td>7326.616</td>\n",
       "      <td>7370.028</td>\n",
       "      <td>46.586</td>\n",
       "      <td>46.955</td>\n",
       "      <td>1615:11:25</td>\n",
       "      <td>790:33:2</td>\n",
       "      <td>22:17:2</td>\n",
       "      <td>9:7:48</td>\n",
       "    </tr>\n",
       "    <tr>\n",
       "      <th>3</th>\n",
       "      <td>SMR03-0219-0252</td>\n",
       "      <td>2019-05-01 22:57:49</td>\n",
       "      <td>5.12</td>\n",
       "      <td>5.16</td>\n",
       "      <td>10.73</td>\n",
       "      <td>5.53</td>\n",
       "      <td>5.90</td>\n",
       "      <td>232.01</td>\n",
       "      <td>233.22</td>\n",
       "      <td>234.14</td>\n",
       "      <td>...</td>\n",
       "      <td>1.36</td>\n",
       "      <td>AUTO</td>\n",
       "      <td>7325.238</td>\n",
       "      <td>7368.641</td>\n",
       "      <td>45.208</td>\n",
       "      <td>45.568</td>\n",
       "      <td>1614:55:17</td>\n",
       "      <td>790:16:54</td>\n",
       "      <td>22:0:54</td>\n",
       "      <td>8:51:40</td>\n",
       "    </tr>\n",
       "  </tbody>\n",
       "</table>\n",
       "<p>4 rows × 29 columns</p>\n",
       "</div>"
      ],
      "text/plain": [
       "           CCMS_ID            Timestamp  Active_Power  Apparent_Power  \\\n",
       "0  SMR03-0219-0252  2019-05-01 23:44:42          5.11            5.15   \n",
       "1  SMR03-0219-0252  2019-05-01 23:29:04          5.11            5.14   \n",
       "2  SMR03-0219-0252  2019-05-01 23:13:58          5.11            5.14   \n",
       "3  SMR03-0219-0252  2019-05-01 22:57:49          5.12            5.16   \n",
       "\n",
       "   Current_R  Current_Y  Current_B  Voltage_R  Voltage_Y  Voltage_B  \\\n",
       "0      10.66       5.47       5.85     233.48     234.57     235.40   \n",
       "1      10.65       5.48       5.83     233.56     234.34     235.45   \n",
       "2      10.74       5.52       5.89     231.74     232.72     233.72   \n",
       "3      10.73       5.53       5.90     232.01     233.22     234.14   \n",
       "\n",
       "              ...              B_Phase  Active_Mode  Total_Active_Energy  \\\n",
       "0             ...                 1.36         AUTO             7329.234   \n",
       "1             ...                 1.35         AUTO             7327.901   \n",
       "2             ...                 1.35         AUTO             7326.616   \n",
       "3             ...                 1.36         AUTO             7325.238   \n",
       "\n",
       "   Total_Apparent_Energy Current_Day_KWH Current_Day_KVAh Power_On_Time  \\\n",
       "0               7372.664          49.204           49.591     1615:42:7   \n",
       "1               7371.322          47.871           48.249    1615:26:31   \n",
       "2               7370.028          46.586           46.955    1615:11:25   \n",
       "3               7368.641          45.208           45.568    1614:55:17   \n",
       "\n",
       "   Relay_On_Time  Current_Day_Meter_On_Period  Current_Day_Relay_On_Period  \n",
       "0       791:3:44                     22:47:44                      9:38:30  \n",
       "1       790:48:8                      22:32:8                      9:22:54  \n",
       "2       790:33:2                      22:17:2                       9:7:48  \n",
       "3      790:16:54                      22:0:54                      8:51:40  \n",
       "\n",
       "[4 rows x 29 columns]"
      ]
     },
     "execution_count": 5,
     "metadata": {},
     "output_type": "execute_result"
    }
   ],
   "source": [
    "df.head(4)"
   ]
  },
  {
   "cell_type": "code",
   "execution_count": 6,
   "metadata": {},
   "outputs": [],
   "source": [
    "# df.info()"
   ]
  },
  {
   "cell_type": "code",
   "execution_count": 7,
   "metadata": {},
   "outputs": [
    {
     "data": {
      "text/plain": [
       "Index(['CCMS_ID', 'Timestamp', 'Active_Power', 'Apparent_Power', 'Current_R',\n",
       "       'Current_Y', 'Current_B', 'Voltage_R', 'Voltage_Y', 'Voltage_B',\n",
       "       'Total_PF', 'Frequency', 'MD_kVA', 'MD_kW', 'Load_Relay_Status_R',\n",
       "       'Load_Relay_Status_Y', 'Load_Relay_Status_B', 'R_Phase', 'Y_Phase',\n",
       "       'B_Phase', 'Active_Mode', 'Total_Active_Energy',\n",
       "       'Total_Apparent_Energy', 'Current_Day_KWH', 'Current_Day_KVAh',\n",
       "       'Power_On_Time', 'Relay_On_Time', 'Current_Day_Meter_On_Period',\n",
       "       'Current_Day_Relay_On_Period'],\n",
       "      dtype='object')"
      ]
     },
     "execution_count": 7,
     "metadata": {},
     "output_type": "execute_result"
    }
   ],
   "source": [
    "df.columns"
   ]
  },
  {
   "cell_type": "code",
   "execution_count": 8,
   "metadata": {},
   "outputs": [],
   "source": [
    "sorted_active_power = df.sort_values(['Active_Power'], ascending=False)\n",
    "active_power_counts = sorted_active_power['Active_Power'].values\n",
    "sorted_apparent_power = df.sort_values(['Apparent_Power'], ascending=False)\n",
    "apparent_power_counts = sorted_apparent_power['Apparent_Power'].values"
   ]
  },
  {
   "cell_type": "code",
   "execution_count": 9,
   "metadata": {},
   "outputs": [
    {
     "data": {
      "image/png": "[encoded data removed]",
      "text/plain": [
       "<Figure size 432x288 with 1 Axes>"
      ]
     },
     "metadata": {},
     "output_type": "display_data"
    }
   ],
   "source": [
    "\n",
    "plt.plot(apparent_power_counts, label=\"apparent_power_counts\")\n",
    "plt.plot(active_power_counts, label=\"active_power_counts\")\n",
    "plt.title(\"Distribution of Power\")\n",
    "plt.grid()\n",
    "plt.xlabel(\"Distribution of Data_Points\")\n",
    "plt.ylabel(\"Power\")\n",
    "plt.legend()\n",
    "plt.show()"
   ]
  },
  {
   "cell_type": "code",
   "execution_count": 10,
   "metadata": {},
   "outputs": [],
   "source": [
    "sorted_Vr = df.sort_values(['Voltage_R'], ascending=False)\n",
    "Vr_counts = sorted_Vr['Voltage_R'].values\n",
    "sorted_Vb = df.sort_values(['Voltage_B'], ascending=False)\n",
    "Vb_counts = sorted_Vb['Voltage_B'].values\n",
    "sorted_Vy = df.sort_values(['Voltage_Y'], ascending=False)\n",
    "Vy_counts = sorted_Vy['Voltage_Y'].values"
   ]
  },
  {
   "cell_type": "code",
   "execution_count": 11,
   "metadata": {},
   "outputs": [
    {
     "data": {
      "image/png": "[encoded data removed]",
      "text/plain": [
       "<Figure size 432x288 with 1 Axes>"
      ]
     },
     "metadata": {},
     "output_type": "display_data"
    }
   ],
   "source": [
    "plt.plot(Vr_counts, label=\"Vr\")\n",
    "plt.plot(Vy_counts, label=\"Vy\")\n",
    "plt.plot(Vb_counts, label=\"Vb\")\n",
    "plt.title(\"Distribution of Voltage\")\n",
    "plt.grid()\n",
    "plt.xlabel(\"Distribution of Data_Points\")\n",
    "plt.ylabel(\"Phase Voltage Value\")\n",
    "plt.legend()\n",
    "plt.show()"
   ]
  },
  {
   "cell_type": "code",
   "execution_count": 15,
   "metadata": {},
   "outputs": [
    {
     "data": {
      "image/png": "[encoded data removed]",
      "text/plain": [
       "<Figure size 432x288 with 1 Axes>"
      ]
     },
     "metadata": {},
     "output_type": "display_data"
    }
   ],
   "source": [
    "plt.plot( df[\"Current_Y\"], label=\"Iy\")\n",
    "plt.plot( df[\"Current_B\"], label=\"Ib\")\n",
    "plt.plot( df[\"Current_R\"], label=\"Ir\")\n",
    "plt.show()"
   ]
  },
  {
   "cell_type": "markdown",
   "metadata": {},
   "source": [
    "### Distribution of Current"
   ]
  },
  {
   "cell_type": "code",
   "execution_count": 16,
   "metadata": {},
   "outputs": [],
   "source": [
    "sorted_Ir = df.sort_values(['Current_R'], ascending=False)\n",
    "Ir_counts = sorted_Ir['Current_R'].values\n",
    "sorted_Ib = df.sort_values(['Current_B'], ascending=False)\n",
    "Ib_counts = sorted_Ib['Current_B'].values\n",
    "sorted_Iy = df.sort_values(['Current_Y'], ascending=False)\n",
    "Iy_counts = sorted_Iy['Current_Y'].values"
   ]
  },
  {
   "cell_type": "code",
   "execution_count": 17,
   "metadata": {},
   "outputs": [
    {
     "data": {
      "image/png": "[encoded data removed]",
      "text/plain": [
       "<Figure size 432x288 with 1 Axes>"
      ]
     },
     "metadata": {},
     "output_type": "display_data"
    }
   ],
   "source": [
    "plt.plot(Ir_counts, label=\"Ir\")\n",
    "plt.plot(Iy_counts, label=\"Iy\")\n",
    "plt.plot(Ib_counts, label=\"Ib\")\n",
    "plt.title(\"Distribution of Current\")\n",
    "plt.grid()\n",
    "plt.xlabel(\"Distribution of Data_Points\")\n",
    "plt.ylabel(\"Phase current Value\")\n",
    "plt.legend()\n",
    "plt.show()"
   ]
  },
  {
   "cell_type": "code",
   "execution_count": null,
   "metadata": {},
   "outputs": [],
   "source": []
  },
  {
   "cell_type": "markdown",
   "metadata": {},
   "source": [
    "### Current Day Time"
   ]
  },
  {
   "cell_type": "code",
   "execution_count": 18,
   "metadata": {},
   "outputs": [],
   "source": [
    "sorted_Ir = df.sort_values(['Current_Day_KWH'], ascending=False)\n",
    "Ir_counts = sorted_Ir['Current_Day_KWH'].values\n",
    "sorted_Ib = df.sort_values(['Current_Day_KVAh'], ascending=False)\n",
    "Ib_counts = sorted_Ib['Current_Day_KVAh'].values\n",
    "# sorted_Iy = df.sort_values(['Current_Y'], ascending=False)\n",
    "# Iy_counts = sorted_Iy['Current_Y'].values"
   ]
  },
  {
   "cell_type": "code",
   "execution_count": 19,
   "metadata": {},
   "outputs": [
    {
     "data": {
      "image/png": "[encoded data removed]",
      "text/plain": [
       "<Figure size 432x288 with 1 Axes>"
      ]
     },
     "metadata": {},
     "output_type": "display_data"
    }
   ],
   "source": [
    "plt.plot(Ir_counts, label=\"Current_Day_KWh\")\n",
    "plt.plot(Iy_counts, label=\"Current_Day_KVAh\")\n",
    "# plt.plot(Ib_counts, label=\"Ib\")\n",
    "plt.title(\"Distribution of Current\")\n",
    "plt.grid()\n",
    "plt.xlabel(\"Distribution of Data_Points\")\n",
    "plt.ylabel(\"Phase Current Value\")\n",
    "plt.legend()\n",
    "plt.show()"
   ]
  },
  {
   "cell_type": "code",
   "execution_count": 20,
   "metadata": {},
   "outputs": [
    {
     "data": {
      "text/plain": [
       "Index(['CCMS_ID', 'Timestamp', 'Active_Power', 'Apparent_Power', 'Current_R',\n",
       "       'Current_Y', 'Current_B', 'Voltage_R', 'Voltage_Y', 'Voltage_B',\n",
       "       'Total_PF', 'Frequency', 'MD_kVA', 'MD_kW', 'Load_Relay_Status_R',\n",
       "       'Load_Relay_Status_Y', 'Load_Relay_Status_B', 'R_Phase', 'Y_Phase',\n",
       "       'B_Phase', 'Active_Mode', 'Total_Active_Energy',\n",
       "       'Total_Apparent_Energy', 'Current_Day_KWH', 'Current_Day_KVAh',\n",
       "       'Power_On_Time', 'Relay_On_Time', 'Current_Day_Meter_On_Period',\n",
       "       'Current_Day_Relay_On_Period'],\n",
       "      dtype='object')"
      ]
     },
     "execution_count": 20,
     "metadata": {},
     "output_type": "execute_result"
    }
   ],
   "source": [
    "df.columns"
   ]
  },
  {
   "cell_type": "markdown",
   "metadata": {},
   "source": [
    "## Max Demand Power Distribution"
   ]
  },
  {
   "cell_type": "code",
   "execution_count": 21,
   "metadata": {},
   "outputs": [
    {
     "data": {
      "image/png": "[encoded data removed]",
      "text/plain": [
       "<Figure size 432x288 with 1 Axes>"
      ]
     },
     "metadata": {},
     "output_type": "display_data"
    }
   ],
   "source": [
    "df.groupby(\"MD_kW\")['MD_kW'].count().plot.bar()\n",
    "plt.xlabel(\"Power Range\")\n",
    "plt.ylabel(\"No of Points\")\n",
    "plt.title(\" No of pts and Power Range\")\n",
    "plt.show()"
   ]
  },
  {
   "cell_type": "code",
   "execution_count": 22,
   "metadata": {},
   "outputs": [],
   "source": [
    "# df.groupby(\"MD_kVA\")['CCMS_ID'].count().plot.bar()\n",
    "# plt.show()"
   ]
  },
  {
   "cell_type": "code",
   "execution_count": 23,
   "metadata": {},
   "outputs": [],
   "source": [
    "df[\"label\"]=\" \""
   ]
  },
  {
   "cell_type": "code",
   "execution_count": 24,
   "metadata": {},
   "outputs": [
    {
     "data": {
      "text/plain": [
       "(2677, 30)"
      ]
     },
     "execution_count": 24,
     "metadata": {},
     "output_type": "execute_result"
    }
   ],
   "source": [
    "df.shape"
   ]
  },
  {
   "cell_type": "code",
   "execution_count": 26,
   "metadata": {},
   "outputs": [],
   "source": [
    "# df.describe()\n",
    "# a=0\n",
    "# b=1\n",
    "# df['MD_kVA'] = df['MD_kVA'].astype('float')\n",
    "# i=0\n",
    "# while(i<2675):\n",
    "#     if(df['MD_kVA'][i]>2.8):\n",
    "#         df['label'][i] =0\n",
    "        \n",
    "#     else:\n",
    "#         df['label'][i] =1\n",
    "#     i=i+1\n",
    "        "
   ]
  },
  {
   "cell_type": "code",
   "execution_count": null,
   "metadata": {},
   "outputs": [],
   "source": [
    "df['MD_kVA'][80:87]"
   ]
  },
  {
   "cell_type": "code",
   "execution_count": null,
   "metadata": {},
   "outputs": [],
   "source": [
    "df['label'][80:87]"
   ]
  },
  {
   "cell_type": "code",
   "execution_count": null,
   "metadata": {},
   "outputs": [],
   "source": [
    "df.shape"
   ]
  },
  {
   "cell_type": "code",
   "execution_count": null,
   "metadata": {},
   "outputs": [],
   "source": [
    "df.to_excel(\"Street light Complaint Details last 6 Month.xlsx\")"
   ]
  },
  {
   "cell_type": "code",
   "execution_count": null,
   "metadata": {},
   "outputs": [],
   "source": []
  },
  {
   "cell_type": "code",
   "execution_count": null,
   "metadata": {},
   "outputs": [],
   "source": []
  },
  {
   "cell_type": "code",
   "execution_count": 27,
   "metadata": {},
   "outputs": [],
   "source": [
    "df=pd.read_excel(r\"C:\\Users\\Cyborg\\Documents\\GitHub\\CCMS\\Instant Raw Report Updated.xlsx\")"
   ]
  },
  {
   "cell_type": "code",
   "execution_count": 28,
   "metadata": {},
   "outputs": [
    {
     "data": {
      "text/html": [
       "<div>\n",
       "<style scoped>\n",
       "    .dataframe tbody tr th:only-of-type {\n",
       "        vertical-align: middle;\n",
       "    }\n",
       "\n",
       "    .dataframe tbody tr th {\n",
       "        vertical-align: top;\n",
       "    }\n",
       "\n",
       "    .dataframe thead th {\n",
       "        text-align: right;\n",
       "    }\n",
       "</style>\n",
       "<table border=\"1\" class=\"dataframe\">\n",
       "  <thead>\n",
       "    <tr style=\"text-align: right;\">\n",
       "      <th></th>\n",
       "      <th>Active_Power</th>\n",
       "      <th>Apparent_Power</th>\n",
       "      <th>Current_R</th>\n",
       "      <th>Current_Y</th>\n",
       "      <th>Current_B</th>\n",
       "      <th>Voltage_R</th>\n",
       "      <th>Voltage_Y</th>\n",
       "      <th>Voltage_B</th>\n",
       "      <th>Frequency</th>\n",
       "      <th>MD_kVA</th>\n",
       "      <th>R_Phase</th>\n",
       "      <th>Y_Phase</th>\n",
       "      <th>B_Phase</th>\n",
       "      <th>Total_Active_Energy</th>\n",
       "      <th>Total_Apparent_Energy</th>\n",
       "      <th>Current_Day_KWH</th>\n",
       "      <th>Current_Day_KVAh</th>\n",
       "      <th>label</th>\n",
       "    </tr>\n",
       "  </thead>\n",
       "  <tbody>\n",
       "    <tr>\n",
       "      <th>count</th>\n",
       "      <td>2677.000000</td>\n",
       "      <td>2677.000000</td>\n",
       "      <td>2677.000000</td>\n",
       "      <td>2677.000000</td>\n",
       "      <td>2677.000000</td>\n",
       "      <td>2677.000000</td>\n",
       "      <td>2677.000000</td>\n",
       "      <td>2677.000000</td>\n",
       "      <td>2677.000000</td>\n",
       "      <td>2677.000000</td>\n",
       "      <td>2677.000000</td>\n",
       "      <td>2677.000000</td>\n",
       "      <td>2677.000000</td>\n",
       "      <td>2677.000000</td>\n",
       "      <td>2677.000000</td>\n",
       "      <td>2677.000000</td>\n",
       "      <td>2677.000000</td>\n",
       "      <td>2677.000000</td>\n",
       "    </tr>\n",
       "    <tr>\n",
       "      <th>mean</th>\n",
       "      <td>2.168326</td>\n",
       "      <td>2.182518</td>\n",
       "      <td>4.783605</td>\n",
       "      <td>1.353747</td>\n",
       "      <td>3.043582</td>\n",
       "      <td>239.106235</td>\n",
       "      <td>239.375387</td>\n",
       "      <td>239.260362</td>\n",
       "      <td>50.014967</td>\n",
       "      <td>4.027826</td>\n",
       "      <td>1.131102</td>\n",
       "      <td>0.315103</td>\n",
       "      <td>0.717826</td>\n",
       "      <td>6554.472007</td>\n",
       "      <td>6592.560025</td>\n",
       "      <td>26.731829</td>\n",
       "      <td>26.926167</td>\n",
       "      <td>0.318267</td>\n",
       "    </tr>\n",
       "    <tr>\n",
       "      <th>std</th>\n",
       "      <td>2.381102</td>\n",
       "      <td>2.396681</td>\n",
       "      <td>5.228688</td>\n",
       "      <td>1.959552</td>\n",
       "      <td>3.338796</td>\n",
       "      <td>8.257170</td>\n",
       "      <td>8.790644</td>\n",
       "      <td>9.200175</td>\n",
       "      <td>0.066142</td>\n",
       "      <td>1.907022</td>\n",
       "      <td>1.235374</td>\n",
       "      <td>0.454676</td>\n",
       "      <td>0.788004</td>\n",
       "      <td>448.534381</td>\n",
       "      <td>451.449749</td>\n",
       "      <td>10.722209</td>\n",
       "      <td>10.792976</td>\n",
       "      <td>0.465891</td>\n",
       "    </tr>\n",
       "    <tr>\n",
       "      <th>min</th>\n",
       "      <td>0.000000</td>\n",
       "      <td>0.000000</td>\n",
       "      <td>0.000000</td>\n",
       "      <td>0.000000</td>\n",
       "      <td>0.000000</td>\n",
       "      <td>220.980000</td>\n",
       "      <td>220.210000</td>\n",
       "      <td>219.570000</td>\n",
       "      <td>49.721000</td>\n",
       "      <td>0.000000</td>\n",
       "      <td>0.000000</td>\n",
       "      <td>0.000000</td>\n",
       "      <td>0.000000</td>\n",
       "      <td>5743.752000</td>\n",
       "      <td>5776.698000</td>\n",
       "      <td>0.018000</td>\n",
       "      <td>0.031000</td>\n",
       "      <td>0.000000</td>\n",
       "    </tr>\n",
       "    <tr>\n",
       "      <th>25%</th>\n",
       "      <td>0.000000</td>\n",
       "      <td>0.000000</td>\n",
       "      <td>0.000000</td>\n",
       "      <td>0.000000</td>\n",
       "      <td>0.000000</td>\n",
       "      <td>232.330000</td>\n",
       "      <td>231.990000</td>\n",
       "      <td>231.360000</td>\n",
       "      <td>49.983000</td>\n",
       "      <td>1.290000</td>\n",
       "      <td>0.000000</td>\n",
       "      <td>0.000000</td>\n",
       "      <td>0.000000</td>\n",
       "      <td>6174.681000</td>\n",
       "      <td>6210.318000</td>\n",
       "      <td>24.067000</td>\n",
       "      <td>24.283000</td>\n",
       "      <td>0.000000</td>\n",
       "    </tr>\n",
       "    <tr>\n",
       "      <th>50%</th>\n",
       "      <td>0.000000</td>\n",
       "      <td>0.000000</td>\n",
       "      <td>0.000000</td>\n",
       "      <td>0.000000</td>\n",
       "      <td>0.000000</td>\n",
       "      <td>238.750000</td>\n",
       "      <td>239.060000</td>\n",
       "      <td>239.000000</td>\n",
       "      <td>50.022000</td>\n",
       "      <td>5.350000</td>\n",
       "      <td>0.000000</td>\n",
       "      <td>0.000000</td>\n",
       "      <td>0.000000</td>\n",
       "      <td>6571.720000</td>\n",
       "      <td>6609.643000</td>\n",
       "      <td>27.296000</td>\n",
       "      <td>27.534000</td>\n",
       "      <td>0.000000</td>\n",
       "    </tr>\n",
       "    <tr>\n",
       "      <th>75%</th>\n",
       "      <td>4.580000</td>\n",
       "      <td>4.610000</td>\n",
       "      <td>10.470000</td>\n",
       "      <td>1.370000</td>\n",
       "      <td>6.720000</td>\n",
       "      <td>246.240000</td>\n",
       "      <td>247.150000</td>\n",
       "      <td>247.110000</td>\n",
       "      <td>50.061000</td>\n",
       "      <td>5.350000</td>\n",
       "      <td>2.470000</td>\n",
       "      <td>0.310000</td>\n",
       "      <td>1.580000</td>\n",
       "      <td>6940.359000</td>\n",
       "      <td>6980.919000</td>\n",
       "      <td>31.699000</td>\n",
       "      <td>31.909000</td>\n",
       "      <td>1.000000</td>\n",
       "    </tr>\n",
       "    <tr>\n",
       "      <th>max</th>\n",
       "      <td>5.540000</td>\n",
       "      <td>5.570000</td>\n",
       "      <td>11.520000</td>\n",
       "      <td>5.640000</td>\n",
       "      <td>7.900000</td>\n",
       "      <td>257.190000</td>\n",
       "      <td>258.940000</td>\n",
       "      <td>259.490000</td>\n",
       "      <td>50.327000</td>\n",
       "      <td>5.350000</td>\n",
       "      <td>2.690000</td>\n",
       "      <td>1.290000</td>\n",
       "      <td>1.870000</td>\n",
       "      <td>7329.234000</td>\n",
       "      <td>7372.664000</td>\n",
       "      <td>59.054000</td>\n",
       "      <td>59.439000</td>\n",
       "      <td>1.000000</td>\n",
       "    </tr>\n",
       "  </tbody>\n",
       "</table>\n",
       "</div>"
      ],
      "text/plain": [
       "       Active_Power  Apparent_Power    Current_R    Current_Y    Current_B  \\\n",
       "count   2677.000000     2677.000000  2677.000000  2677.000000  2677.000000   \n",
       "mean       2.168326        2.182518     4.783605     1.353747     3.043582   \n",
       "std        2.381102        2.396681     5.228688     1.959552     3.338796   \n",
       "min        0.000000        0.000000     0.000000     0.000000     0.000000   \n",
       "25%        0.000000        0.000000     0.000000     0.000000     0.000000   \n",
       "50%        0.000000        0.000000     0.000000     0.000000     0.000000   \n",
       "75%        4.580000        4.610000    10.470000     1.370000     6.720000   \n",
       "max        5.540000        5.570000    11.520000     5.640000     7.900000   \n",
       "\n",
       "         Voltage_R    Voltage_Y    Voltage_B    Frequency       MD_kVA  \\\n",
       "count  2677.000000  2677.000000  2677.000000  2677.000000  2677.000000   \n",
       "mean    239.106235   239.375387   239.260362    50.014967     4.027826   \n",
       "std       8.257170     8.790644     9.200175     0.066142     1.907022   \n",
       "min     220.980000   220.210000   219.570000    49.721000     0.000000   \n",
       "25%     232.330000   231.990000   231.360000    49.983000     1.290000   \n",
       "50%     238.750000   239.060000   239.000000    50.022000     5.350000   \n",
       "75%     246.240000   247.150000   247.110000    50.061000     5.350000   \n",
       "max     257.190000   258.940000   259.490000    50.327000     5.350000   \n",
       "\n",
       "           R_Phase      Y_Phase      B_Phase  Total_Active_Energy  \\\n",
       "count  2677.000000  2677.000000  2677.000000          2677.000000   \n",
       "mean      1.131102     0.315103     0.717826          6554.472007   \n",
       "std       1.235374     0.454676     0.788004           448.534381   \n",
       "min       0.000000     0.000000     0.000000          5743.752000   \n",
       "25%       0.000000     0.000000     0.000000          6174.681000   \n",
       "50%       0.000000     0.000000     0.000000          6571.720000   \n",
       "75%       2.470000     0.310000     1.580000          6940.359000   \n",
       "max       2.690000     1.290000     1.870000          7329.234000   \n",
       "\n",
       "       Total_Apparent_Energy  Current_Day_KWH  Current_Day_KVAh        label  \n",
       "count            2677.000000      2677.000000       2677.000000  2677.000000  \n",
       "mean             6592.560025        26.731829         26.926167     0.318267  \n",
       "std               451.449749        10.722209         10.792976     0.465891  \n",
       "min              5776.698000         0.018000          0.031000     0.000000  \n",
       "25%              6210.318000        24.067000         24.283000     0.000000  \n",
       "50%              6609.643000        27.296000         27.534000     0.000000  \n",
       "75%              6980.919000        31.699000         31.909000     1.000000  \n",
       "max              7372.664000        59.054000         59.439000     1.000000  "
      ]
     },
     "execution_count": 28,
     "metadata": {},
     "output_type": "execute_result"
    }
   ],
   "source": [
    "df.describe()"
   ]
  },
  {
   "cell_type": "code",
   "execution_count": 29,
   "metadata": {},
   "outputs": [
    {
     "data": {
      "text/plain": [
       "Index(['CCMS_ID', 'Timestamp', 'Active_Power', 'Apparent_Power', 'Current_R',\n",
       "       'Current_Y', 'Current_B', 'Voltage_R', 'Voltage_Y', 'Voltage_B',\n",
       "       'Total_PF', 'Frequency', 'MD_kVA', 'MD_kW', 'Load_Relay_Status_R',\n",
       "       'Load_Relay_Status_Y', 'Load_Relay_Status_B', 'R_Phase', 'Y_Phase',\n",
       "       'B_Phase', 'Active_Mode', 'Total_Active_Energy',\n",
       "       'Total_Apparent_Energy', 'Current_Day_KWH', 'Current_Day_KVAh',\n",
       "       'Power_On_Time', 'Relay_On_Time', 'Current_Day_Meter_On_Period',\n",
       "       'Current_Day_Relay_On_Period', 'label'],\n",
       "      dtype='object')"
      ]
     },
     "execution_count": 29,
     "metadata": {},
     "output_type": "execute_result"
    }
   ],
   "source": [
    "df.columns"
   ]
  },
  {
   "cell_type": "code",
   "execution_count": 30,
   "metadata": {},
   "outputs": [
    {
     "data": {
      "text/plain": [
       "(2677, 30)"
      ]
     },
     "execution_count": 30,
     "metadata": {},
     "output_type": "execute_result"
    }
   ],
   "source": [
    "df.shape"
   ]
  },
  {
   "cell_type": "code",
   "execution_count": null,
   "metadata": {},
   "outputs": [],
   "source": []
  },
  {
   "cell_type": "code",
   "execution_count": null,
   "metadata": {},
   "outputs": [],
   "source": []
  },
  {
   "cell_type": "code",
   "execution_count": 31,
   "metadata": {},
   "outputs": [],
   "source": [
    "df=df[df.Current_Y>=0.05]\n",
    "df=df[df.Current_B>=0.05]\n",
    "df=df[df.Current_R>=0.05]"
   ]
  },
  {
   "cell_type": "code",
   "execution_count": 32,
   "metadata": {},
   "outputs": [
    {
     "data": {
      "text/plain": [
       "(1222, 30)"
      ]
     },
     "execution_count": 32,
     "metadata": {},
     "output_type": "execute_result"
    }
   ],
   "source": [
    "df.shape\n"
   ]
  },
  {
   "cell_type": "code",
   "execution_count": 33,
   "metadata": {},
   "outputs": [
    {
     "data": {
      "image/png": "[encoded data removed]",
      "text/plain": [
       "<Figure size 432x288 with 1 Axes>"
      ]
     },
     "metadata": {},
     "output_type": "display_data"
    }
   ],
   "source": [
    "df.groupby(\"label\")['CCMS_ID'].count().plot.bar()\n",
    "plt.show()"
   ]
  },
  {
   "cell_type": "code",
   "execution_count": 34,
   "metadata": {},
   "outputs": [],
   "source": [
    "x=df[['Active_Power', 'Apparent_Power', 'Current_R', 'Current_Y', 'Current_B', 'Voltage_R', 'Voltage_Y', 'Voltage_B', 'Total_Apparent_Energy', 'Current_Day_KWH', 'Current_Day_KVAh']]"
   ]
  },
  {
   "cell_type": "code",
   "execution_count": 35,
   "metadata": {},
   "outputs": [],
   "source": [
    "y=df['label'].astype(\"int\")"
   ]
  },
  {
   "cell_type": "code",
   "execution_count": 36,
   "metadata": {},
   "outputs": [
    {
     "data": {
      "text/html": [
       "<div>\n",
       "<style scoped>\n",
       "    .dataframe tbody tr th:only-of-type {\n",
       "        vertical-align: middle;\n",
       "    }\n",
       "\n",
       "    .dataframe tbody tr th {\n",
       "        vertical-align: top;\n",
       "    }\n",
       "\n",
       "    .dataframe thead th {\n",
       "        text-align: right;\n",
       "    }\n",
       "</style>\n",
       "<table border=\"1\" class=\"dataframe\">\n",
       "  <thead>\n",
       "    <tr style=\"text-align: right;\">\n",
       "      <th></th>\n",
       "      <th>Active_Power</th>\n",
       "      <th>Apparent_Power</th>\n",
       "      <th>Current_R</th>\n",
       "      <th>Current_Y</th>\n",
       "      <th>Current_B</th>\n",
       "      <th>Voltage_R</th>\n",
       "      <th>Voltage_Y</th>\n",
       "      <th>Voltage_B</th>\n",
       "      <th>Total_Apparent_Energy</th>\n",
       "      <th>Current_Day_KWH</th>\n",
       "      <th>Current_Day_KVAh</th>\n",
       "    </tr>\n",
       "  </thead>\n",
       "  <tbody>\n",
       "    <tr>\n",
       "      <th>0</th>\n",
       "      <td>5.11</td>\n",
       "      <td>5.15</td>\n",
       "      <td>10.66</td>\n",
       "      <td>5.47</td>\n",
       "      <td>5.85</td>\n",
       "      <td>233.48</td>\n",
       "      <td>234.57</td>\n",
       "      <td>235.40</td>\n",
       "      <td>7372.664</td>\n",
       "      <td>49.204</td>\n",
       "      <td>49.591</td>\n",
       "    </tr>\n",
       "    <tr>\n",
       "      <th>1</th>\n",
       "      <td>5.11</td>\n",
       "      <td>5.14</td>\n",
       "      <td>10.65</td>\n",
       "      <td>5.48</td>\n",
       "      <td>5.83</td>\n",
       "      <td>233.56</td>\n",
       "      <td>234.34</td>\n",
       "      <td>235.45</td>\n",
       "      <td>7371.322</td>\n",
       "      <td>47.871</td>\n",
       "      <td>48.249</td>\n",
       "    </tr>\n",
       "    <tr>\n",
       "      <th>2</th>\n",
       "      <td>5.11</td>\n",
       "      <td>5.14</td>\n",
       "      <td>10.74</td>\n",
       "      <td>5.52</td>\n",
       "      <td>5.89</td>\n",
       "      <td>231.74</td>\n",
       "      <td>232.72</td>\n",
       "      <td>233.72</td>\n",
       "      <td>7370.028</td>\n",
       "      <td>46.586</td>\n",
       "      <td>46.955</td>\n",
       "    </tr>\n",
       "  </tbody>\n",
       "</table>\n",
       "</div>"
      ],
      "text/plain": [
       "   Active_Power  Apparent_Power  Current_R  Current_Y  Current_B  Voltage_R  \\\n",
       "0          5.11            5.15      10.66       5.47       5.85     233.48   \n",
       "1          5.11            5.14      10.65       5.48       5.83     233.56   \n",
       "2          5.11            5.14      10.74       5.52       5.89     231.74   \n",
       "\n",
       "   Voltage_Y  Voltage_B  Total_Apparent_Energy  Current_Day_KWH  \\\n",
       "0     234.57     235.40               7372.664           49.204   \n",
       "1     234.34     235.45               7371.322           47.871   \n",
       "2     232.72     233.72               7370.028           46.586   \n",
       "\n",
       "   Current_Day_KVAh  \n",
       "0            49.591  \n",
       "1            48.249  \n",
       "2            46.955  "
      ]
     },
     "execution_count": 36,
     "metadata": {},
     "output_type": "execute_result"
    }
   ],
   "source": [
    "x.head(3)"
   ]
  },
  {
   "cell_type": "code",
   "execution_count": 37,
   "metadata": {},
   "outputs": [],
   "source": [
    "from sklearn.model_selection import train_test_split"
   ]
  },
  {
   "cell_type": "code",
   "execution_count": 38,
   "metadata": {},
   "outputs": [],
   "source": [
    "X_train, X_test, y_train, y_test = train_test_split(x, y, test_size=0.15, random_state=42)"
   ]
  },
  {
   "cell_type": "code",
   "execution_count": 39,
   "metadata": {},
   "outputs": [],
   "source": [
    "from sklearn.linear_model import LogisticRegression\n",
    "from sklearn.model_selection import GridSearchCV, RandomizedSearchCV"
   ]
  },
  {
   "cell_type": "code",
   "execution_count": 40,
   "metadata": {},
   "outputs": [],
   "source": [
    "# clf = LogisticRegression(random_state=0).fit(X_train, y_train)"
   ]
  },
  {
   "cell_type": "code",
   "execution_count": 41,
   "metadata": {},
   "outputs": [
    {
     "name": "stdout",
     "output_type": "stream",
     "text": [
      "LogisticRegression(C=5, class_weight=None, dual=False, fit_intercept=True,\n",
      "          intercept_scaling=1, max_iter=100, multi_class='ovr', n_jobs=1,\n",
      "          penalty='l2', random_state=None, solver='liblinear', tol=0.0001,\n",
      "          verbose=0, warm_start=False)\n",
      "0.9910207842314606\n",
      "0.999731182795699\n"
     ]
    }
   ],
   "source": [
    "parametersx=[{'C': [10**-4, 10**-2,0.75, 0.79, 0.80,0.81, 1, 5, 10, 20, 50, 10**2, 10**4]}]\n",
    "clf = GridSearchCV(LogisticRegression(penalty='l2'), parametersx, cv=4, scoring='roc_auc', )\n",
    "clf.fit(X_train, y_train)\n",
    "pred=clf.predict_proba(X_test)[:, 1]\n",
    "print(clf.best_estimator_)\n",
    "print(clf.score(X_train, y_train))\n",
    "print(clf.score(X_test, y_test))"
   ]
  },
  {
   "cell_type": "markdown",
   "metadata": {},
   "source": [
    "#### Clustering"
   ]
  },
  {
   "cell_type": "code",
   "execution_count": null,
   "metadata": {},
   "outputs": [],
   "source": []
  },
  {
   "cell_type": "code",
   "execution_count": 42,
   "metadata": {},
   "outputs": [
    {
     "data": {
      "text/plain": [
       "(1222, 30)"
      ]
     },
     "execution_count": 42,
     "metadata": {},
     "output_type": "execute_result"
    }
   ],
   "source": [
    "df.shape"
   ]
  },
  {
   "cell_type": "code",
   "execution_count": 43,
   "metadata": {},
   "outputs": [],
   "source": [
    "df=df[df['label']==1\n",
    "     ]"
   ]
  },
  {
   "cell_type": "code",
   "execution_count": 44,
   "metadata": {},
   "outputs": [
    {
     "data": {
      "text/plain": [
       "(417, 30)"
      ]
     },
     "execution_count": 44,
     "metadata": {},
     "output_type": "execute_result"
    }
   ],
   "source": [
    "df.shape"
   ]
  },
  {
   "cell_type": "code",
   "execution_count": 45,
   "metadata": {},
   "outputs": [],
   "source": [
    "x_train=df[:350]\n",
    "x_test=df[350:]\n",
    "y_train=df['label'][:350]\n",
    "y_test=df['label'][350:]"
   ]
  },
  {
   "cell_type": "code",
   "execution_count": 46,
   "metadata": {},
   "outputs": [
    {
     "data": {
      "image/png": "[encoded data removed]",
      "text/plain": [
       "<Figure size 432x288 with 1 Axes>"
      ]
     },
     "metadata": {},
     "output_type": "display_data"
    }
   ],
   "source": [
    "from sklearn.cluster import KMeans\n",
    "errors=[]\n",
    "k_value=[1,2,3,4,5,7]\n",
    "for i in k_value:\n",
    "    kmeans = KMeans(n_clusters=i, random_state=0, n_jobs=-1)\n",
    "    kmeans.fit(X_train)\n",
    "    pred=kmeans.predict(X_test)\n",
    "    errors.append(kmeans.inertia_)\n",
    "plt.plot(k_value, errors)\n",
    "plt.show()"
   ]
  },
  {
   "cell_type": "code",
   "execution_count": 48,
   "metadata": {},
   "outputs": [],
   "source": [
    "# # import seaborn as sns\n",
    "# plt.plot(kind='scatter', x=x_train, y=y_train, data=df) ;\n",
    "# plt.show()\n"
   ]
  },
  {
   "cell_type": "code",
   "execution_count": null,
   "metadata": {},
   "outputs": [],
   "source": []
  },
  {
   "cell_type": "code",
   "execution_count": null,
   "metadata": {},
   "outputs": [],
   "source": []
  },
  {
   "cell_type": "code",
   "execution_count": null,
   "metadata": {},
   "outputs": [],
   "source": []
  },
  {
   "cell_type": "code",
   "execution_count": null,
   "metadata": {},
   "outputs": [],
   "source": []
  },
  {
   "cell_type": "code",
   "execution_count": null,
   "metadata": {},
   "outputs": [],
   "source": []
  },
  {
   "cell_type": "code",
   "execution_count": null,
   "metadata": {},
   "outputs": [],
   "source": []
  },
  {
   "cell_type": "code",
   "execution_count": null,
   "metadata": {},
   "outputs": [],
   "source": []
  },
  {
   "cell_type": "code",
   "execution_count": null,
   "metadata": {},
   "outputs": [],
   "source": []
  },
  {
   "cell_type": "code",
   "execution_count": null,
   "metadata": {},
   "outputs": [],
   "source": []
  },
  {
   "cell_type": "code",
   "execution_count": null,
   "metadata": {},
   "outputs": [],
   "source": [
    "if df['MD_kW']> 2.8 :\n",
    "    df['label']=\"on\""
   ]
  },
  {
   "cell_type": "code",
   "execution_count": null,
   "metadata": {},
   "outputs": [],
   "source": []
  }
 ],
 "metadata": {
  "kernelspec": {
   "display_name": "Python 3",
   "language": "python",
   "name": "python3"
  },
  "language_info": {
   "codemirror_mode": {
    "name": "ipython",
    "version": 3
   },
   "file_extension": ".py",
   "mimetype": "text/x-python",
   "name": "python",
   "nbconvert_exporter": "python",
   "pygments_lexer": "ipython3",
   "version": "3.6.5"
  }
 },
 "nbformat": 4,
 "nbformat_minor": 2
}
